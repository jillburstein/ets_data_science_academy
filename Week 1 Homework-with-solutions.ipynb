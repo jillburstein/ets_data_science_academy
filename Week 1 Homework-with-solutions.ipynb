{
 "cells": [
  {
   "cell_type": "code",
   "execution_count": 19,
   "metadata": {},
   "outputs": [],
   "source": [
    "\"\"\"In Python, we can use the # sign for a line comment (everything after the # sign on that line will be ignored).\n",
    "A block comment starts and ends with three quote signs. We use those for function and file documentation. Here I am\n",
    "using block comments to denote my comments on your exercises since the notebook colors them in red, which is\n",
    "convenient.\"\"\"\n",
    "\n",
    "\"\"\"Place all imports at the beginning of a notebook/script/file. I also sort them in alphabetical order.\"\"\"\n",
    "import numpy as np"
   ]
  },
  {
   "cell_type": "code",
   "execution_count": 13,
   "metadata": {},
   "outputs": [
    {
     "name": "stdout",
     "output_type": "stream",
     "text": [
      "[None, None, None, None, '1', None, None, None, None]\n"
     ]
    },
    {
     "data": {
      "text/plain": [
       "'The above prints the first 9 elements. Just print(a) if you want to print all 10 elements.'"
      ]
     },
     "execution_count": 13,
     "metadata": {},
     "output_type": "execute_result"
    }
   ],
   "source": [
    "#1. Create a null array of size 10 but the fifth value which is 1\n",
    "\"\"\"Here you created a list, but the syntax for array is similiar:\n",
    "\n",
    "a = np.array([None] * 10, dtype=object)\n",
    "\n",
    "It is good practice to specify the array's data type with the 'dtype' parameter. Since None can be anything, we use\n",
    "dtype=object.\"\"\"\n",
    "a = ([None]) * 10\n",
    "a.insert(4, '1')\n",
    "print (a[:9])\n",
    "\"\"\"The above prints the first 9 elements. Just print(a) if you want to print all 10 elements.\"\"\""
   ]
  },
  {
   "cell_type": "code",
   "execution_count": 14,
   "metadata": {},
   "outputs": [
    {
     "name": "stdout",
     "output_type": "stream",
     "text": [
      "[None, None, None, None, None, None, '1', None, None, None, None]\n"
     ]
    },
    {
     "data": {
      "text/plain": [
       "\"In a notebook, the last instruction's output is always printed, so the above can be shorthanded into\\na[-1::1]\\n\""
      ]
     },
     "execution_count": 14,
     "metadata": {},
     "output_type": "execute_result"
    }
   ],
   "source": [
    "#2. Reverse a above created array (first element becomes last)\n",
    "print(a[-1::-1])\n",
    "\"\"\"In a notebook, the last instruction's output is always printed, so the above can be shorthanded into\n",
    "a[-1::1]\n",
    "\"\"\""
   ]
  },
  {
   "cell_type": "code",
   "execution_count": 15,
   "metadata": {},
   "outputs": [
    {
     "name": "stdout",
     "output_type": "stream",
     "text": [
      "numpy matrix is \n",
      "[[0 1 2]\n",
      " [3 4 5]\n",
      " [6 7 8]]\n",
      "\n"
     ]
    }
   ],
   "source": [
    "#3. Create a 3x3 matrix with values ranging from 0 to 8\n",
    "import numpy as np\n",
    "\n",
    "pymat = [[0,1,2],[3,4,5],[6,7,8]]\n",
    "npmat = np.array(pymat)\n",
    "print ('numpy matrix is \\n%s\\n'%npmat)"
   ]
  },
  {
   "cell_type": "code",
   "execution_count": 34,
   "metadata": {},
   "outputs": [
    {
     "name": "stdout",
     "output_type": "stream",
     "text": [
      "The index of 1 = [ 0 ]\n",
      "The index of 2 = [ 1 ]\n",
      "The index of 4 = [ 4 ]\n",
      "Only non-negative values, each one occuring once\n",
      "[0, 1, 4]\n",
      "[0, 1, 4]\n",
      "Repeated values\n",
      "[0, 1, 4, 5]\n",
      "[0, 1, 4, 4]\n",
      "Negative values\n",
      "[0, 1, 4]\n",
      "[1, 4]\n",
      "3.25 ms ± 60 µs per loop (mean ± std. dev. of 7 runs, 100 loops each)\n",
      "401 ms ± 772 µs per loop (mean ± std. dev. of 7 runs, 1 loop each)\n"
     ]
    }
   ],
   "source": [
    "#4. Find indices of non-zero elements from [1,2,0,0,4,0]\n",
    "\n",
    "list = [1,2,0,0,4,0]\n",
    "for n in list:\n",
    "    if n > 0:\n",
    "        index = list.index(n)\n",
    "        print('The index of', n, \"=\", \"[\", index, \"]\")\n",
    "        \n",
    "\"\"\"The above code has several issues:\n",
    "- Don't use the reserved word 'list' for a variable; it can be confusing. Call it 'lst', 'data', etc.\n",
    "- Bug 1: it only finds positive elements, not all non-zeros (which could be negative as well!).\n",
    "- Bug 2: it won't give the expected result if there is a repeated non-zero element in the list. index() returns\n",
    "the first occurrence of a value. If the last element were also 4, we would not return it.\n",
    "- Slow performance: if the list is of size n, we first need n operations to find all values in the list.\n",
    "('for n in list'). Thus, the loop is executed at worst n times (when all values are non-zero). Furthermore, every\n",
    "call list.index() has to potentially search through the entire list to find the value\n",
    "(take the list = [1,2,3,4,...,n]; value i will require i times to find the value 'i', and for large i ~ n we need\n",
    "to loop over [nearly] the whole list. The total number of passes over elements is 1+2+3+4+...+n = n(n-1)/2. For large\n",
    "n, this is about n^2, so the code will take 4 times longer to run over a twice larger list. We should be able to\n",
    "do faster than that, since the total amount of data in our problem is n. For very large n, n^2 is a lot larger than\n",
    "n.\n",
    "\n",
    "Instead, we can use the function programming tools to filter the list (finding elements that match a certain criteria\n",
    "should trigger in our minds the use of filter(). But we want the index, not the element itself, which calls for \n",
    "another tool we haven't learned yet: enumerate(). \n",
    "\n",
    "enumerate(a) is a generator that returns the tuples (0, a[0]), (1, a[1]), (2, a[2]), ..., (n-1, a[n-1]) where n=len(a).\n",
    "This gives us an index and value together, so we can do this:\n",
    "\"\"\"\n",
    "\n",
    "# First, fix the symbol overriding above. Otherwise, we can't use the list keyword below to read items from \n",
    "# a generator exprssion, since it was used above for a variable.\n",
    "del list\n",
    "\n",
    "def non_zero_indices(data):\n",
    "    \"\"\"Returns the list of all non-zero elements in the list 'data'. Actually, 'data' can be any iterable of numbers:\n",
    "    numpy array, or a generator expression of numbers. This code runs in O(n) time and O(1) storage for a list of\n",
    "    n elements.\"\"\"\n",
    "    # Returning the actual list. We could keep the returned value as a generator expression for more efficient\n",
    "    # code if it is to be fed into downstream code.\n",
    "    # Let's parse this:\n",
    "    # enumerate(data) gives us (0, data[0]), (1, data[1])\n",
    "    # filter() takes a function of a tuple (called t). We return True if and only if t[1], the data element, is\n",
    "    # non-zero. This will give us a generator of all tuples (i, data[i]) where data[i] > 0.\n",
    "    # Now, we apply a map to each tuple - return the first element in the tuple, i, which is the index of the element.\n",
    "    # Finally, we read all elements from the generator into a list. Note that our code is not just shorter but\n",
    "    # also more efficient as it touches each element in the array once, so for n elements it runs in time ~ n.\n",
    "    return list(map(lambda t: t[0], filter(lambda t: t[1] != 0, enumerate(data))))\n",
    "\n",
    "def non_zero_indices_using_index(data):\n",
    "    \"\"\"This is your code, just wrapped in a function. This accepts only a list, not a numpy array, since we're\n",
    "    using index() which is a list function. This runs in O(n^2) time for an n-element list.\"\"\"\n",
    "    index_list = []\n",
    "    for n in data:\n",
    "        if n > 0:\n",
    "            index = data.index(n)\n",
    "            # Say we add it to a list instead of printing it so we can compare both implementations.\n",
    "            index_list.append(index)\n",
    "    return index_list\n",
    "\n",
    "# For the above test case, both implementations work.\n",
    "data = [1, 2, 0, 0, 4, 0]   # Space after each comma is a style guide.\n",
    "print(\"Only non-negative values, each one occuring once\")\n",
    "print(non_zero_indices(data))\n",
    "print(non_zero_indices_using_index(data))\n",
    "\n",
    "# Repeated values work only with the map-filter implementation.\n",
    "print(\"Repeated values\")\n",
    "data = [1, 2, 0, 0, 4, 4]\n",
    "print(non_zero_indices(data))\n",
    "print(non_zero_indices_using_index(data))\n",
    "\n",
    "# Negative values work only with the map-filter implementation.\n",
    "print(\"Negative values\")\n",
    "data = [-1, 2, 0, 0, 4, 0]\n",
    "print(non_zero_indices(data))\n",
    "print(non_zero_indices_using_index(data))\n",
    "\n",
    "# Compare timing on a large list with a large spread of values, which is where non_zero_indices_using_index() will\n",
    "# take the longest to find elements. On my machine, I see a 100x speedup!\n",
    "data = list(np.random.randint(low=-10000, high=10000, size=10000))\n",
    "%timeit non_zero_indices(data)\n",
    "%timeit non_zero_indices_using_index(data)\n",
    "\n",
    "\"\"\"In summary, we see a typical code development: we start with a simple function, then find better ways to implement\n",
    "it. We write tests against different types of inputs to verify the code's correctness. Finally, we benchmark our code\n",
    "and figure out if there are bottlenecks and how to make it faster for large problems. We make sure to document each\n",
    "method, saying what it takes as input, what it outputs, and how fast it runs. As you can see, even the simplest\n",
    "tasks can be drastically improved.\"\"\"; # This little ; at the end is there just so that the notebook doesn't print this comment."
   ]
  },
  {
   "cell_type": "code",
   "execution_count": 37,
   "metadata": {},
   "outputs": [
    {
     "data": {
      "text/plain": [
       "array([0, 1, 4])"
      ]
     },
     "execution_count": 37,
     "metadata": {},
     "output_type": "execute_result"
    }
   ],
   "source": [
    "\"\"\"Follow-up on the previous cell: if you're using numpy arrays instead of lists, numpy already has a shortcut for\n",
    "doing what we did:\"\"\"\n",
    "\n",
    "data = np.array([-1, 2, 0, 0, 4, 0])\n",
    "\"\"\"np.where() returns a tuple of indices for each dimension of the array that match the expression data != 0.\n",
    "Since this is a 1D array, it's a tuple of size 1, so we typically use np.where(data != 0)[0] as our answer.\"\"\"\n",
    "np.where(data != 0)[0]"
   ]
  },
  {
   "cell_type": "code",
   "execution_count": 17,
   "metadata": {},
   "outputs": [
    {
     "name": "stdout",
     "output_type": "stream",
     "text": [
      "matrix generated from numpy.random.random is \n",
      "[[0.68208693 0.9277571  0.01802716]\n",
      " [0.77010355 0.43851083 0.13145025]\n",
      " [0.19917503 0.97919282 0.40063113]]\n",
      "\n"
     ]
    }
   ],
   "source": [
    "#5. Create a 3x3x3 array with random values\n",
    "\n",
    "#Using numpy.random.random\n",
    "mat1 = np.random.random(size=(3,3))\n",
    "print ('matrix generated from numpy.random.random is \\n%s\\n'%mat1)"
   ]
  },
  {
   "cell_type": "code",
   "execution_count": 41,
   "metadata": {},
   "outputs": [
    {
     "name": "stdout",
     "output_type": "stream",
     "text": [
      "matrix generated from numpy.random.random is \n",
      "[[ 4  8 18 13 10  9 13  0  6 17]\n",
      " [ 8  0  9  9  8 10 16 10  8 11]\n",
      " [12  2  3  0 15 16 10 19 13  6]\n",
      " [ 7 14 18  1  5  8  9 13  6  5]\n",
      " [12 12  3  3 17  2 14  2 13  5]\n",
      " [ 2  9 13 16 19  9 19 14 15 10]\n",
      " [19 16 15 14  8  7 15 10  1 13]\n",
      " [ 0 10  4  2  1 18  5  5  7  5]\n",
      " [16 12  9 19 13 19  6 13 13  0]\n",
      " [ 4 16 17 16  6 11  8  7  8 17]]\n",
      "\n",
      "min 0 max 19\n"
     ]
    }
   ],
   "source": [
    "#6. Create a 10x10 array with random values and find the minimum and maximum values\n",
    "\n",
    "mat2 = np.random.randint(low=0,high=20,size=(10,10))\n",
    "print ('matrix generated from numpy.random.random is \\n%s\\n'%mat2)\n",
    "\n",
    "\"\"\"You forgot to find the min and max values:\"\"\"\n",
    "print(\"min\", mat2.min(), \"max\", mat2.max())\n",
    "\"\"\"Note that this would be a useful test case of the function np.random.randint() to ensure that if you asked for\n",
    "the range [0,20) you get only numbers in that range.\"\"\";"
   ]
  },
  {
   "cell_type": "code",
   "execution_count": 20,
   "metadata": {},
   "outputs": [
    {
     "name": "stdout",
     "output_type": "stream",
     "text": [
      "matrix generated from numpy.random.random is \n",
      "[0.78377484 0.71798643 0.89393805 0.46867435 0.72821659 0.03454968\n",
      " 0.31198322 0.61716664 0.57931898 0.3315161  0.40624549 0.27103195\n",
      " 0.12632674 0.2781223  0.84456975 0.71218764 0.87216624 0.43054051\n",
      " 0.79736251 0.00698133 0.59892498 0.0351275  0.37707422 0.58333232\n",
      " 0.48889496 0.92291963 0.80933515 0.63599263 0.82042715 0.31335971]\n",
      "\n",
      "Overall mean of vector is \n",
      "0.526601587275102\n",
      "\n"
     ]
    }
   ],
   "source": [
    "#7. Create a random vector of size 30 and find the mean value\n",
    "\n",
    "#Using numpy.random.random\n",
    "vec1 = np.random.random(size=(30))\n",
    "print ('matrix generated from numpy.random.random is \\n%s\\n'%vec1)\n",
    "print ('Overall mean of vector is \\n%s\\n'%np.mean(vec1))"
   ]
  },
  {
   "cell_type": "code",
   "execution_count": 13,
   "metadata": {},
   "outputs": [
    {
     "ename": "NameError",
     "evalue": "name 'np' is not defined",
     "output_type": "error",
     "traceback": [
      "\u001b[0;31m---------------------------------------------------------------------------\u001b[0m",
      "\u001b[0;31mNameError\u001b[0m                                 Traceback (most recent call last)",
      "\u001b[0;32m<ipython-input-13-b2f29af3ed3c>\u001b[0m in \u001b[0;36m<module>\u001b[0;34m\u001b[0m\n\u001b[1;32m      2\u001b[0m \u001b[0;31m#**Question**: this works, but honestly I am not sure why. I don't understand how the slicing is happening in the 2D matrix\u001b[0m\u001b[0;34m\u001b[0m\u001b[0;34m\u001b[0m\u001b[0;34m\u001b[0m\u001b[0m\n\u001b[1;32m      3\u001b[0m \u001b[0;31m#The second \"1:4\" appears to control the what happens. As long as \":\" stays constant, I can see how the second piece controls what's going on. I think I don't know what the first \":\" is doing, exactly.\u001b[0m\u001b[0;34m\u001b[0m\u001b[0;34m\u001b[0m\u001b[0;34m\u001b[0m\u001b[0m\n\u001b[0;32m----> 4\u001b[0;31m \u001b[0marray1\u001b[0m \u001b[0;34m=\u001b[0m \u001b[0mnp\u001b[0m\u001b[0;34m.\u001b[0m\u001b[0mones\u001b[0m\u001b[0;34m(\u001b[0m\u001b[0;34m(\u001b[0m\u001b[0;36m2\u001b[0m\u001b[0;34m,\u001b[0m\u001b[0;36m5\u001b[0m\u001b[0;34m)\u001b[0m\u001b[0;34m)\u001b[0m\u001b[0;34m\u001b[0m\u001b[0;34m\u001b[0m\u001b[0m\n\u001b[0m\u001b[1;32m      5\u001b[0m \u001b[0marray1\u001b[0m\u001b[0;34m[\u001b[0m\u001b[0;34m:\u001b[0m\u001b[0;34m,\u001b[0m\u001b[0;36m1\u001b[0m\u001b[0;34m:\u001b[0m\u001b[0;36m4\u001b[0m \u001b[0;34m]\u001b[0m \u001b[0;34m=\u001b[0m \u001b[0;36m0\u001b[0m\u001b[0;34m\u001b[0m\u001b[0;34m\u001b[0m\u001b[0m\n\u001b[1;32m      6\u001b[0m \u001b[0mprint\u001b[0m\u001b[0;34m(\u001b[0m\u001b[0marray1\u001b[0m\u001b[0;34m)\u001b[0m\u001b[0;34m\u001b[0m\u001b[0;34m\u001b[0m\u001b[0m\n",
      "\u001b[0;31mNameError\u001b[0m: name 'np' is not defined"
     ]
    }
   ],
   "source": [
    "#8. Create a 2d array with 1 on the border and 0 inside\n",
    "#**Question**: this works, but honestly I am not sure why. I don't understand how the slicing is happening in the 2D matrix\n",
    "#The second \"1:4\" appears to control the what happens. As long as \":\" stays constant, I can see how the second piece controls what's going on. I think I don't know what the first \":\" is doing, exactly.\n",
    "array1 = np.ones((2,5))\n",
    "array1[:,1:4 ] = 0\n",
    "print(array1)\n",
    "\n",
    "\"\"\"To understand slicing, just keep in mind that : means the entire range of a dimension. Hence, for a 2D array a,\n",
    "\n",
    "a[1:4, :] = the second, third and fourth rows of a (since we specified : in the second dimension = columns)\n",
    "a[:, 1:4] = the second, third and fourth columns of a (since we specified : in the first dimension = columns)\n",
    "a[:, :] = all of a\n",
    "a[1:4, 2:3] = the sub-matrix of a starting at a[1,1] and ending at a[3,2] (row range + column range).\n",
    "\n",
    "In numpy, they added a shortcut/convenience that may be confusing you at the moment -- if you want to slice in the\n",
    "first dimension only (i.e., get a row range), you can omit the second : . Thus\n",
    "\n",
    "a[1:4] is the same as a[1:4, :]\n",
    "\n",
    "If it's confusing, just use the full notation a[1:4, :].\n",
    "\n",
    "To answer your question above, the first : controls the row range, which means get all rows, while the second\n",
    "range (say, 1:4) controls the column range. Thus a[:, 1:4] returns the second, third and fourth columns. In your\n",
    "function you are only setting the left and right borders to 1. I interpreted the question as having border of 1 all\n",
    "around.\n",
    "\n",
    "Now for the problem itself: we can generate an m x n matrix with zeros, then set the first row to 1, last row to 1,\n",
    "first column to 1, and last column to 1. This will give us the full border of ones.\n",
    "\"\"\"\n",
    "\n",
    "def border_array(m, n):\n",
    "    \"\"\"Returns an m x n matrix with a border of 1 and interior of 0.\"\"\"\n",
    "    a = np.zeros((m, n))\n",
    "    # Set first row to 1. We could use a[0, :] = 1, but we can use the shortcut!\n",
    "    a[0] = 1\n",
    "    # Set last row to 1. We don't even need to refer to the size 'n' here if we utilize negative indexing.\n",
    "    a[-1] = 1\n",
    "    # Set first column to 1. Note that a[0, 0] is already 1, but we override it with 1 so it's OK.\n",
    "    a[:, 0] = 1\n",
    "    # Set last column to 1. Note that a[-1, -1] is already 1, but we override it with 1 so it's OK.\n",
    "    a[:, -1] = 1\n",
    "    return a\n",
    "\n",
    "print(\"Using border_array():\")\n",
    "print(border_array(5, 4))"
   ]
  },
  {
   "cell_type": "code",
   "execution_count": 158,
   "metadata": {},
   "outputs": [
    {
     "name": "stdout",
     "output_type": "stream",
     "text": [
      "[5]\n"
     ]
    }
   ],
   "source": [
    "z = ([1,2,3,4,5])\n",
    "print(z[-1:])\n",
    "\n"
   ]
  },
  {
   "cell_type": "code",
   "execution_count": 320,
   "metadata": {},
   "outputs": [
    {
     "name": "stdout",
     "output_type": "stream",
     "text": [
      "mat1= [[0.94604661 0.83414915 0.4491943 ]\n",
      " [0.4337302  0.55981213 0.39858667]\n",
      " [0.20202951 0.55990693 0.31369956]\n",
      " [0.8143894  0.77542236 0.44637564]\n",
      " [0.52406032 0.63097701 0.94516279]]\n",
      "mat2= [[0.79855583 0.54538824]\n",
      " [0.66005971 0.10754943]\n",
      " [0.73363607 0.1704974 ]]\n",
      "product= [[1.63560442 0.68226142]\n",
      " [1.00828477 0.36471682]\n",
      " [0.76104516 0.22388715]\n",
      " [1.48963773 0.60366052]\n",
      " [1.52837944 0.51482535]]\n"
     ]
    }
   ],
   "source": [
    "#9. Multiply a 5x3 matrix by a 3x2 matrix (real matrix product)\n",
    "\n",
    "mat53 = np.random.random(size=(5,3))\n",
    "mat32 = np.random.random(size=(3,2))\n",
    "print (\"mat1=\", mat53)\n",
    "print (\"mat2=\",mat32)\n",
    "product = np.dot(mat53, mat32)\n",
    "print(\"product=\", product)\n",
    "\n"
   ]
  },
  {
   "cell_type": "code",
   "execution_count": 23,
   "metadata": {},
   "outputs": [
    {
     "name": "stdout",
     "output_type": "stream",
     "text": [
      "Here's the array: [-0.75558812  1.32485087 -0.14963281  0.15590073  0.53357055  0.22896972\n",
      " -0.68888289  0.15046437 -0.17063717 -1.53840586]\n",
      "[-0.  1. -0.  0.  0.  0. -0.  0. -0. -1.]\n",
      "c= [ -7.55588117  13.24850873  -1.49632807   1.55900731   5.33570549\n",
      "   2.28969723  -6.88882894   1.50464368  -1.70637172 -15.38405856]\n",
      "trunc_c= [ -7.  13.  -1.   1.   5.   2.  -6.   1.  -1. -15.]\n"
     ]
    }
   ],
   "source": [
    "#10. Extract the integer part of a random array\n",
    "\n",
    "#Question: not exactly sure what to do here? \n",
    "\n",
    "array_b = np.random.randn(10) #generate random normal distribution; extract only integers from each value; i'm sure there is a more efficient way :-)\n",
    "#print (\"\\n\",\"***Is this what you were thinking?***\",\"\\n\")\n",
    "print (\"Here's the array:\", array_b)\n",
    "for digit in array_b:\n",
    "    digit_s = str(digit)\n",
    "    for i in digit_s:\n",
    "        if i.isdigit():\n",
    "            pass\n",
    "            \"\"\"An empty statement in python; you must have one inside a nested block or it will get confused\n",
    "            about what to do with an empty block following an 'if'.\"\"\"\n",
    "            \"\"\"I commented out your prints so we can see the results of the code below without scrolling down.\"\"\"\n",
    "            #print(\"I am an integer =\",i)\n",
    "\n",
    "\"\"\"You were in the right direction, but above we need to convert every float to a string, then check if it's a\n",
    "digit, etc. - we want to do everything in floating point and not involve strings (which are a lot slower).\n",
    "Fortunately, numpy provides a magic function to do this:\n",
    "\n",
    "https://numpy.org/doc/stable/reference/generated/numpy.trunc.html\n",
    "\n",
    "Scroll \n",
    "\"\"\"\n",
    "print(np.trunc(array_b))\n",
    "\n",
    "\"\"\"Let's make it more interesting by scaling b up.\"\"\"\n",
    "c = 10 * array_b\n",
    "print(\"c=\", c)\n",
    "print(\"trunc_c=\",np.trunc(c))\n",
    "\n",
    "\"\"\"If you didn't know about the numpy function (which I didn't either, I googled it as I do for everything in numpy),\n",
    "we could alternatively use map() on the array, and in the lambda function do something like lambda x: math.trunc(x),\n",
    "where math is the standard math library ('import math' would be required). Or we could write a function that truncates\n",
    "a float by hand, but in any case, not use strings.\"\"\";"
   ]
  },
  {
   "cell_type": "code",
   "execution_count": 60,
   "metadata": {},
   "outputs": [
    {
     "name": "stdout",
     "output_type": "stream",
     "text": [
      "[0 1 2 3 4] <class 'numpy.ndarray'> 5\n",
      "[0 1 2 3 4] <class 'numpy.ndarray'> 5\n",
      "[0 1 2 3 4] <class 'numpy.ndarray'> 5\n",
      "[0 1 2 3 4] <class 'numpy.ndarray'> 5\n",
      "[0 1 2 3 4] <class 'numpy.ndarray'> 5\n",
      "Final matrix:\n",
      "[0 1 2 3 4]\n",
      "[[0 1 2 3 4]\n",
      " [0 1 2 3 4]\n",
      " [0 1 2 3 4]\n",
      " [0 1 2 3 4]\n",
      " [0 1 2 3 4]]\n"
     ]
    }
   ],
   "source": [
    "#11. Create a 5x5 matrix with row values ranging from 0 to 4\n",
    "\n",
    "mat5x5 = np.zeros((5,5)) # create a 5x5 matrix of zeros to start\n",
    "#mat5x5 += np.arange(5)#I was struggling and found this code online and it works. I think what it's doing is that for each row in mat5x5, iterate and populate each row of `mat5x5` with 0 - 4 print(mat55); start at 0, max 5, step 1\n",
    "for row in mat5x5: #Question: I created this for loop, thinking it would do the same as above, but it seems to create a set of arrays vs a matrix; so, I am a bit confused.\n",
    "    mat5x5 = np.arange(5)\n",
    "    \"\"\"There is a bug here - you meant row = np.arange(5). This sets the whole matrix to a 1D array.\"\"\"\n",
    "    print(mat5x5, type(mat5x5), mat5x5.size)\n",
    "#print(mat5x5, type(mat5x5)) \n",
    "\n",
    "\"\"\"So the result is actually 1D array:\"\"\"\n",
    "print(\"Final matrix:\")\n",
    "print(mat5x5)\n",
    "\n",
    "\"\"\"The correct function is tile(): https://numpy.org/doc/stable/reference/generated/numpy.tile.html\n",
    "We create the range as you did, and then tile it in the second dimension. I never know whether it should be (1, 5)\n",
    "or (5, 1) in tiling so I try both and see which is right. :)\"\"\"\n",
    "print(np.tile(np.arange(5), (5, 1)))"
   ]
  },
  {
   "cell_type": "code",
   "execution_count": 552,
   "metadata": {},
   "outputs": [
    {
     "name": "stdout",
     "output_type": "stream",
     "text": [
      "original: [0.53995558 0.73393044 0.11538771 0.28050683 0.54481254 0.1172875\n",
      " 0.75315917 0.73346305 0.06280361 0.55951623]\n",
      "sorted: [0.53995558 0.73393044 0.11538771 0.28050683 0.54481254 0.1172875\n",
      " 0.75315917 0.73346305 0.06280361 0.55951623]\n"
     ]
    }
   ],
   "source": [
    "#12.  Create a random vector of size 10 and sort it\n",
    "\n",
    "random_vec = np.random.random(size=(10))\n",
    "print (\"original:\", random_vec)\n",
    "np.sort(random_vec)\n",
    "print (\"sorted:\", random_vec)"
   ]
  },
  {
   "cell_type": "code",
   "execution_count": 67,
   "metadata": {},
   "outputs": [
    {
     "name": "stdout",
     "output_type": "stream",
     "text": [
      "A= [2 3 1 4 4 3 1 4 3 0]\n",
      "B= [3 1 3 0 0 3 3 1 2 3]\n",
      "[2 3 1 4 4 3 1 4 3 0] is not equal to [3 1 3 0 0 3 3 1 2 3]\n",
      "[False False False False False  True False False False False]\n",
      "all result False\n",
      "A == B? False\n",
      "A == A? True\n"
     ]
    }
   ],
   "source": [
    "#13. Consider two random array A anb B, check if they are equal\n",
    "\n",
    "A = np.random.randint(5, size = 10)\n",
    "B = np.random.randint(5, size = 10)\n",
    "#A = np.random.randint(1, size = 10) #case is equal\n",
    "#B = np.random.randint(1, size = 10)\n",
    "print(\"A=\", A)\n",
    "print(\"B=\", B)\n",
    "test_equality = A == B\n",
    "if False in test_equality:\n",
    "    print(A, \"is not equal to\", B)\n",
    "else:\n",
    "    print(A, \"is equal to\", B)\n",
    "    \n",
    "\"\"\"Correct! Instead of checking if there's a False value in an array, python provides the function all()\"\"\"\n",
    "print(A == B)\n",
    "print(\"all result\", all(A == B))  # Returns True iff all values in an array are True. Similarly, cf. the function any().\n",
    "\"\"\"Or we could use the numpy function that does all this for us:\n",
    "https://numpy.org/doc/stable/reference/generated/numpy.array_equal.html\"\"\"\n",
    "print(\"A == B?\", np.array_equal(A, B))\n",
    "print(\"A == A?\", np.array_equal(A, A))\n",
    "\n",
    "\"\"\"Style comment: use lowercase letters for all variables including matrices - a, b and not A, B.\"\"\";"
   ]
  },
  {
   "cell_type": "code",
   "execution_count": 36,
   "metadata": {},
   "outputs": [
    {
     "name": "stdout",
     "output_type": "stream",
     "text": [
      "Column 1 is NULL: [None None]\n",
      "Column that text positive for NULL: [1]\n"
     ]
    }
   ],
   "source": [
    "#14. How to tell if a given 2D array has null columns?\n",
    "\n",
    "#*Note: I figured out how to tell if an array is dimension is empty, but then I realized that wasn't the question\n",
    "#pymat2 = [[0,1,2],[]] \n",
    "#npmat2 = np.array(pymat2) #create 2D  matrix with NULL column\n",
    "#for col in npmat2: #iterate on matrix\n",
    "    #print(col)\n",
    "    #if len(col) == 0: #check length of columns in matrix\n",
    "        #print(\"Column\", col, \"is NULL\") \n",
    "\n",
    "#There must be a simpler way, and not even sure this is correct. I am used to dealing with strings vs numbers.\n",
    "#I think this gets at the general idea. I feel like you showed a simple way to do this, but I cant' find it in the video.\n",
    "#I know this is totally \"hacky\"\n",
    "\n",
    "pymat3 = [[0,None,2],[3,None,4]] #create a 2D array with Null columns\n",
    "npmat3 = np.array(pymat3)\n",
    "for col in range(npmat3.shape[0]): #iterate on all columns; I found this code, and .shape[0] or .shape[1] seems to work and not sure why\n",
    "    x = str(npmat3[:,col])\n",
    "    if \"None\" in x:\n",
    "        print(\"Column\", col, \"is NULL:\",npmat3[:,col]) \n",
    "        \n",
    "\"\"\"As a general rule in python, and in particular numpy, loops are a lot slower (and harder to read) than array\n",
    "operations. Numpy is optimized to do operations on entire rows or columns a lot faster than looping over elements.\n",
    "Here we use a variant of all() provided by numpy: np.all() can work along a dimension, while all() is a generic\n",
    "python function that works on any generator. For each column, we use np.all() to find if it's all nulls; then we\n",
    "use np.where() to find the columns that tested positive. Both np.all() and np.where() are block operations instead\n",
    "of loops so fast and easy to read.\n",
    "\"\"\"\n",
    "\n",
    "\"\"\"Prints the indices of all null columns. Remember that np.where() returns a tuple of size 1 on a 1D array, so\n",
    "we take the first element in the tuple. See\n",
    "\n",
    "https://numpy.org/doc/stable/reference/generated/numpy.where.html\"\"\"\n",
    "print(\"Column that text positive for NULL:\",np.where(np.all(npmat3 == None, axis=0))[0])"
   ]
  },
  {
   "cell_type": "code",
   "execution_count": 85,
   "metadata": {},
   "outputs": [
    {
     "name": "stdout",
     "output_type": "stream",
     "text": [
      "matrix= [[ 0.18546845  1.35982131 -2.21873518 -0.05207876]\n",
      " [ 0.94251265  0.93575419  1.67977604 -1.74821217]\n",
      " [-1.30990468 -0.4488677   1.50490394 -0.44999352]] \n",
      " slice= [[ 0.94251265  0.93575419  1.67977604 -1.74821217]\n",
      " [-1.30990468 -0.4488677   1.50490394 -0.44999352]] \n",
      " sum= 1.1059687420372832\n",
      "(3, 4, 5, 6)\n",
      "[[  4.54626235   6.63733306   3.7256565   -2.45235477]\n",
      " [  8.21551427   7.65729304  -2.38509093  -0.18550861]\n",
      " [-14.87626978  -0.71546403   1.10235407  10.04778306]]\n"
     ]
    }
   ],
   "source": [
    "#15. Considering a four dimensions array, how to get sum over the last two axis at once?\n",
    "\n",
    "arrayx4 = np.random.randn(3,4) #make 4-dim array (matrix)\n",
    "slice = arrayx4[1:3] #slice out rows 1 & 2\n",
    "sum = np.sum(slice) #**Question**:this should sum across all values in the two rows. I think this is what you are asking for \"all at once\"?\n",
    "print (\"matrix=\",arrayx4, \"\\n\",\"slice=\", slice, \"\\n\", \"sum=\",sum)\n",
    "\n",
    "\n",
    "\"\"\"Above you actually created a 2D array of size 3 x 4. To create a 4D array you need to pass in a size which is \n",
    "a tuple of length 4.\"\"\"\n",
    "\n",
    "tensor = np.random.randn(3,4,5,6)\n",
    "print(tensor.shape)\n",
    "\"\"\"np.sum() can take multiple axes, here the last two are 2, 3 (remember everything is 0-based). Since we are summing\n",
    "over the last 2 dimensions, our sum result should be a 3 x 4 matrix, not a scalar. Indeed:\"\"\"\n",
    "print(np.sum(tensor, axis=(2, 3)))"
   ]
  },
  {
   "cell_type": "code",
   "execution_count": 639,
   "metadata": {},
   "outputs": [
    {
     "name": "stdout",
     "output_type": "stream",
     "text": [
      "PRODUCT= [[-0.55683069 -0.10913743  0.35009651 ...  0.10639027 -0.63385807\n",
      "  -0.43362835]\n",
      " [ 0.7131353   0.13977275 -0.44837001 ... -0.13625445  0.81178458\n",
      "   0.55534957]\n",
      " [ 0.69536258  0.13628934 -0.43719576 ... -0.13285872  0.79155333\n",
      "   0.54150918]\n",
      " ...\n",
      " [ 0.09396184  0.01841629 -0.05907669 ... -0.01795272  0.10695975\n",
      "   0.07317219]\n",
      " [ 0.73653001  0.14435806 -0.46307898 ... -0.14072433  0.83841552\n",
      "   0.57356805]\n",
      " [-0.19673646 -0.03855986  0.12369424 ...  0.03758925 -0.22395137\n",
      "  -0.15320726]]\n"
     ]
    }
   ],
   "source": [
    "#16. Consider an array of dimension (5,5,3), how to mulitply it by an array with dimensions (5,5)?\n",
    "#Question: I'm not sure if this is right. I tried different things, but taking the outer product of\n",
    "#arrays with non-equal dimensions seems to work. I did not find a solution in the videos or in the notebook, so\n",
    "#I tried to find something online.\n",
    "\n",
    "arrayx553 = np.random.randn(5,5,3)\n",
    "arrayx55 = np.random.randn(5,5)\n",
    "product2 = np.outer(arrayx553,arrayx55)\n",
    "\n",
    "print(\"PRODUCT=\", product2)\n",
    "\n",
    "\"\"\"Yes, this one is out there, let's skip it. I think you did the right thing.\"\"\""
   ]
  },
  {
   "cell_type": "code",
   "execution_count": 46,
   "metadata": {},
   "outputs": [
    {
     "name": "stdout",
     "output_type": "stream",
     "text": [
      "[[ 0  1  2  3  4  5  6  7  8  9]\n",
      " [10 11 12 13 14 15 16 17 18 19]\n",
      " [20 21 22 23 24 25 26 27 28 29]\n",
      " [30 31 32 33 34 35 36 37 38 39]\n",
      " [40 41 42 43 44 45 46 47 48 49]\n",
      " [50 51 52 53 54 55 56 57 58 59]\n",
      " [60 61 62 63 64 65 66 67 68 69]\n",
      " [70 71 72 73 74 75 76 77 78 79]\n",
      " [80 81 82 83 84 85 86 87 88 89]\n",
      " [90 91 92 93 94 95 96 97 98 99]]\n",
      "m= 10 n= 10\n",
      "range(0, 7) range(0, 7)\n",
      "[[ 0  1  2]\n",
      " [10 11 12]\n",
      " [20 21 22]]\n",
      "[[ 1  2  3]\n",
      " [11 12 13]\n",
      " [21 22 23]]\n",
      "[[ 2  3  4]\n",
      " [12 13 14]\n",
      " [22 23 24]]\n",
      "[[ 3  4  5]\n",
      " [13 14 15]\n",
      " [23 24 25]]\n",
      "[[ 4  5  6]\n",
      " [14 15 16]\n",
      " [24 25 26]]\n",
      "[[ 5  6  7]\n",
      " [15 16 17]\n",
      " [25 26 27]]\n",
      "[[ 6  7  8]\n",
      " [16 17 18]\n",
      " [26 27 28]]\n",
      "[[10 11 12]\n",
      " [20 21 22]\n",
      " [30 31 32]]\n",
      "[[11 12 13]\n",
      " [21 22 23]\n",
      " [31 32 33]]\n",
      "[[12 13 14]\n",
      " [22 23 24]\n",
      " [32 33 34]]\n",
      "[[13 14 15]\n",
      " [23 24 25]\n",
      " [33 34 35]]\n",
      "[[14 15 16]\n",
      " [24 25 26]\n",
      " [34 35 36]]\n",
      "[[15 16 17]\n",
      " [25 26 27]\n",
      " [35 36 37]]\n",
      "[[16 17 18]\n",
      " [26 27 28]\n",
      " [36 37 38]]\n",
      "[[20 21 22]\n",
      " [30 31 32]\n",
      " [40 41 42]]\n",
      "[[21 22 23]\n",
      " [31 32 33]\n",
      " [41 42 43]]\n",
      "[[22 23 24]\n",
      " [32 33 34]\n",
      " [42 43 44]]\n",
      "[[23 24 25]\n",
      " [33 34 35]\n",
      " [43 44 45]]\n",
      "[[24 25 26]\n",
      " [34 35 36]\n",
      " [44 45 46]]\n",
      "[[25 26 27]\n",
      " [35 36 37]\n",
      " [45 46 47]]\n",
      "[[26 27 28]\n",
      " [36 37 38]\n",
      " [46 47 48]]\n",
      "[[30 31 32]\n",
      " [40 41 42]\n",
      " [50 51 52]]\n",
      "[[31 32 33]\n",
      " [41 42 43]\n",
      " [51 52 53]]\n",
      "[[32 33 34]\n",
      " [42 43 44]\n",
      " [52 53 54]]\n",
      "[[33 34 35]\n",
      " [43 44 45]\n",
      " [53 54 55]]\n",
      "[[34 35 36]\n",
      " [44 45 46]\n",
      " [54 55 56]]\n",
      "[[35 36 37]\n",
      " [45 46 47]\n",
      " [55 56 57]]\n",
      "[[36 37 38]\n",
      " [46 47 48]\n",
      " [56 57 58]]\n",
      "[[40 41 42]\n",
      " [50 51 52]\n",
      " [60 61 62]]\n",
      "[[41 42 43]\n",
      " [51 52 53]\n",
      " [61 62 63]]\n",
      "[[42 43 44]\n",
      " [52 53 54]\n",
      " [62 63 64]]\n",
      "[[43 44 45]\n",
      " [53 54 55]\n",
      " [63 64 65]]\n",
      "[[44 45 46]\n",
      " [54 55 56]\n",
      " [64 65 66]]\n",
      "[[45 46 47]\n",
      " [55 56 57]\n",
      " [65 66 67]]\n",
      "[[46 47 48]\n",
      " [56 57 58]\n",
      " [66 67 68]]\n",
      "[[50 51 52]\n",
      " [60 61 62]\n",
      " [70 71 72]]\n",
      "[[51 52 53]\n",
      " [61 62 63]\n",
      " [71 72 73]]\n",
      "[[52 53 54]\n",
      " [62 63 64]\n",
      " [72 73 74]]\n",
      "[[53 54 55]\n",
      " [63 64 65]\n",
      " [73 74 75]]\n",
      "[[54 55 56]\n",
      " [64 65 66]\n",
      " [74 75 76]]\n",
      "[[55 56 57]\n",
      " [65 66 67]\n",
      " [75 76 77]]\n",
      "[[56 57 58]\n",
      " [66 67 68]\n",
      " [76 77 78]]\n",
      "[[60 61 62]\n",
      " [70 71 72]\n",
      " [80 81 82]]\n",
      "[[61 62 63]\n",
      " [71 72 73]\n",
      " [81 82 83]]\n",
      "[[62 63 64]\n",
      " [72 73 74]\n",
      " [82 83 84]]\n",
      "[[63 64 65]\n",
      " [73 74 75]\n",
      " [83 84 85]]\n",
      "[[64 65 66]\n",
      " [74 75 76]\n",
      " [84 85 86]]\n",
      "[[65 66 67]\n",
      " [75 76 77]\n",
      " [85 86 87]]\n",
      "[[66 67 68]\n",
      " [76 77 78]\n",
      " [86 87 88]]\n"
     ]
    }
   ],
   "source": [
    "#17. Extract all the contiguous 3x3 blocks from a random 10x10 matrix\n",
    "#CONFUSED: Outside of my understanding from the lectures. Sorry. I can make the matrix but not sure how \n",
    "#to get the 'blocks'\n",
    "\n",
    "rand10x10 = np.random.rand(10,10)\n",
    "\n",
    "#print(rand10x10)\n",
    "\n",
    "\"\"\"We can get each block by slicing operations. Suppose we have the 4x5 matrix (just an example)\n",
    "\n",
    " 1  2  3  4  5\n",
    " 6  7  8  9 10\n",
    "11 12 13 14 15\n",
    "16 17 18 19 20\n",
    "\n",
    "then the first 3x3 block (top left corner) is\n",
    "\n",
    " 1  2  3\n",
    " 6  7  8\n",
    "11 12 13\n",
    "\n",
    "Then we take the next, overlapping block by shifting to the right by one column:\n",
    "\n",
    " 2  3  4\n",
    " 7  8  9\n",
    "12 13 14\n",
    "\n",
    "and so on until the end of the row. Now we can shift down by one row:\n",
    "\n",
    " 6  7  8\n",
    "11 12 13\n",
    "16 17 18\n",
    "\n",
    "and so on until we get to the bottom right corner:\n",
    "\n",
    " 8  9 10\n",
    "13 14 15\n",
    "18 19 20\n",
    "\n",
    "So each block starts at some index, (i, j), and ends at (i + 2, j + 2). So it is specified by\n",
    "\n",
    "a[i:i+3, j:j+3]\n",
    "\n",
    "Now, we want to make sure we include all possible (i, j)'s starting at the top left corner but not falling off the edge\n",
    "of the array on the right or bottom. This ends up being:\n",
    "\"\"\"\n",
    "\n",
    "def contiguous_3x3_blocks(a):\n",
    "    # a.shape is a tuple, and we can extract its values into two variables m, n with one line instead of\n",
    "    # m = a.shape[0]\n",
    "    # n = a.shape[1]\n",
    "    m, n = a.shape\n",
    "    #print(\"m=\",m,\"n=\",n)\n",
    "    #print(range(m-3),range(n-3) )\n",
    "    return [a[i:i+3, j:j+3] for i in range(m-3) for j in range(n-3)]\n",
    "\n",
    "\"\"\"Let's test this but not on a random matrix so it's easy for us to verify this by eye.\"\"\"\n",
    "\n",
    "a = np.arange(100).reshape(10,10)\n",
    "print(a)\n",
    "for block in contiguous_3x3_blocks(a):\n",
    "    print(block)"
   ]
  },
  {
   "cell_type": "code",
   "execution_count": null,
   "metadata": {},
   "outputs": [],
   "source": [
    "#18. Consider a 16x16 array, how to get the block-sum (block size is 4x4)?\n",
    "#This problem is outside of what I understand from the lectures. Sorry."
   ]
  },
  {
   "cell_type": "code",
   "execution_count": 95,
   "metadata": {},
   "outputs": [
    {
     "name": "stdout",
     "output_type": "stream",
     "text": [
      "Ttest_indResult(statistic=-2.768737418594114, pvalue=0.0066245172598695485)\n"
     ]
    }
   ],
   "source": [
    "#19. Generate 2 random gaussian distributions and run a t-test to see differences\n",
    "\n",
    "from scipy import stats\n",
    "\n",
    "a = np.random.normal(0,1,100)\n",
    "b = np.random.normal(1,1,10)\n",
    "#print(a)\n",
    "#print(b)\n",
    "print(stats.ttest_ind(a,b))\n",
    "\n",
    "\"\"\"Returns the statistic and p-value, see\n",
    "https://docs.scipy.org/doc/scipy/reference/generated/scipy.stats.ttest_ind.html\"\"\";"
   ]
  },
  {
   "cell_type": "code",
   "execution_count": null,
   "metadata": {},
   "outputs": [],
   "source": []
  }
 ],
 "metadata": {
  "hide_input": false,
  "kernelspec": {
   "display_name": "Python 3",
   "language": "python",
   "name": "python3"
  },
  "language_info": {
   "codemirror_mode": {
    "name": "ipython",
    "version": 3
   },
   "file_extension": ".py",
   "mimetype": "text/x-python",
   "name": "python",
   "nbconvert_exporter": "python",
   "pygments_lexer": "ipython3",
   "version": "3.7.4"
  }
 },
 "nbformat": 4,
 "nbformat_minor": 2
}
